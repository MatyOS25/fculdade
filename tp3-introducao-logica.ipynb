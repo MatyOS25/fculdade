{
  "nbformat": 4,
  "nbformat_minor": 0,
  "metadata": {
    "colab": {
      "name": "tp3.ipynb",
      "provenance": [],
      "collapsed_sections": [],
      "include_colab_link": true
    },
    "kernelspec": {
      "name": "python3",
      "display_name": "Python 3"
    }
  },
  "cells": [
    {
      "cell_type": "markdown",
      "metadata": {
        "id": "view-in-github",
        "colab_type": "text"
      },
      "source": [
        "<a href=\"https://colab.research.google.com/github/MatyOS25/fculdade/blob/master/tp3-introducao-logica.ipynb\" target=\"_parent\"><img src=\"https://colab.research.google.com/assets/colab-badge.svg\" alt=\"Open In Colab\"/></a>"
      ]
    },
    {
      "cell_type": "markdown",
      "metadata": {
        "id": "Tmyh-wYHHvEm"
      },
      "source": [
        "Questão 1"
      ]
    },
    {
      "cell_type": "code",
      "metadata": {
        "id": "b2Ml16I2yK77",
        "outputId": "92ce0b42-7d63-4b97-dfb3-be3f1132cddf",
        "colab": {
          "base_uri": "https://localhost:8080/",
          "height": 85
        }
      },
      "source": [
        "def contaconsumo ():\n",
        "  ''' Calculo de consumo com base em total consumido, taxa de serviço e numero de pessoas. **Não necessita input prévio** . Retorna o valor final com a taxa inclusa, e a divisão por pessoa ''' \n",
        "\n",
        "  #input com restrições \n",
        "  valor_total = int(input(\"Qual o valor total consumido? R$\"))\n",
        "  while valor_total <= 0 :\n",
        "    print(\"Valor inválido\")\n",
        "    valor_total = int(input(\"Qual o valor total consumido? R$\"))\n",
        "  percentual_servico = int(input(\"Qual o percentual de serviço, entre 0 e 100? \"))\n",
        "  while percentual_servico < 0 or percentual_servico > 100:\n",
        "     print(\"Valor inválido\")\n",
        "     percentual_servico = int(input(\"Qual o percentual de serviço, entre 0 e 100? \"))\n",
        "  numero_pessoas = int(input(\"Qual o número de pessoas? \"))\n",
        "  while numero_pessoas <= 0 :\n",
        "    print(\"Valor inválido\")\n",
        "    numero_pessoas = int(input(\"Qual o número de pessoas? \"))\n",
        "\n",
        "  #cálculos\n",
        "  valor_com_servico = valor_total + ((percentual_servico / 100) * valor_total)\n",
        "  valor_pessoa = valor_com_servico / numero_pessoas\n",
        "\n",
        "  #ajustes visuais\n",
        "  valor_total = round(valor_total, 2)\n",
        "  valor_total = str(valor_total).replace('.',',')\n",
        "  valor_com_servico = round(valor_com_servico, 2)\n",
        "  valor_com_servico = str(valor_com_servico).replace('.',',')\n",
        "  valor_pessoa = round(valor_pessoa, 2)\n",
        "  valor_pessoa = str(valor_pessoa).replace('.',',')\n",
        "\n",
        "  #limpeza do console\n",
        "  from IPython.display import clear_output\n",
        "  clear_output()\n",
        "\n",
        "  #exibição\n",
        "  print(f\"O valor consumido foi de R${valor_total}\")\n",
        "  print(f\"A taxa de serviço é de {percentual_servico}%\")\n",
        "  print(f\"Valor total com taxa é de: R${valor_com_servico}\")\n",
        "  print(f\"Valor individual contando {numero_pessoas} pessoa(s) é de R${valor_pessoa}\")\n",
        "\n",
        "#chamar a função\n",
        "contaconsumo()"
      ],
      "execution_count": null,
      "outputs": [
        {
          "output_type": "stream",
          "text": [
            "O valor consumido foi de R$100\n",
            "a taxa de serviço é de 5%\n",
            "Valor total com taxa de R$105,0\n",
            "Valor individual contando 2 pessoa(s) é de R$52,5\n"
          ],
          "name": "stdout"
        }
      ]
    },
    {
      "cell_type": "markdown",
      "metadata": {
        "id": "BpMOm5iOs2ww"
      },
      "source": [
        "Questão 2"
      ]
    },
    {
      "cell_type": "code",
      "metadata": {
        "id": "WLvkuR1qHyvN",
        "outputId": "c5a70698-b156-4afa-ed48-4ca748cc9c0e",
        "colab": {
          "base_uri": "https://localhost:8080/",
          "height": 52
        }
      },
      "source": [
        "def eleitor_idade(idade) :\n",
        "  ''' Define o tipo de eleitor com base na idade '''\n",
        "  while idade <= 0 :\n",
        "    print(\"Valor Inválido\")\n",
        "    idade = int(input(\"Informe a idade: \"))\n",
        "  if idade >= 18 and idade < 70 :\n",
        "    print(\"Tem obrigação de votar.\")\n",
        "  elif idade < 16 :\n",
        "    print(\"Não pode votar.\")\n",
        "  else :\n",
        "    print(\"Voto facultativo.\")\n",
        "idade = int(input(\"Informe a idade: \"))\n",
        "eleitor_idade(idade)\n"
      ],
      "execution_count": null,
      "outputs": [
        {
          "output_type": "stream",
          "text": [
            "Informe a idade: 16\n",
            "Não pode votar.\n"
          ],
          "name": "stdout"
        }
      ]
    },
    {
      "cell_type": "markdown",
      "metadata": {
        "id": "TjeBd-741YAm"
      },
      "source": [
        "Questão 3 ( não entendi pq o 10 não é colocado em ordem, ai tive que improvisar)"
      ]
    },
    {
      "cell_type": "code",
      "metadata": {
        "id": "OTJNEHTr1ZPB",
        "outputId": "31281571-50e7-4c54-8b45-7e330db63315",
        "colab": {
          "base_uri": "https://localhost:8080/",
          "height": 102
        }
      },
      "source": [
        "def notas_concurso():\n",
        "  ''' Definir as notas do concurso com nome do participante'''\n",
        "  #Definido variaveis\n",
        "  #lista pras notas\n",
        "  notas = []\n",
        "  #lista pros nomes\n",
        "  nomes = []\n",
        "  #varíavel seletiva para determinar se deseja continuar repetindo ou nãp\n",
        "  ativo = 1\n",
        "  #variavel para manter 10\n",
        "  nomes_com_dez = []\n",
        "  # variável aleatória\n",
        "  azar = 0\n",
        "  # lista onde as notas são string, para poder combinar com nome do aluno\n",
        "  notas_str = []\n",
        "  # enquanto ativo for 1 vai ficar repetindo\n",
        "  while ativo == 1 :\n",
        "    # adicionar a nota\n",
        "    notas.append(float(input(\"Digite a nota do participante: \")))\n",
        "    # se ela for diferente de 0-10 vai dar como inválido\n",
        "    if notas[-1] < 0 or notas[-1] > 10 :\n",
        "      print(\"Nota inválida, insira um valor de 0 - 10\")\n",
        "      #exclui o ultimo registro\n",
        "      notas.pop()\n",
        "      # repetir até acertar\n",
        "      notas.append(float(input(\"Digite a nota do participante: \")))\n",
        "    #aleatório\n",
        "    else :\n",
        "      azar = 0\n",
        "    #adicionar a nota na lista onde se torna string\n",
        "    notas_str.append(str(notas[-1]))\n",
        "    #\n",
        "    nomes.append(notas_str[-1] + input(\"Digite o nome do participante: \"))\n",
        "    if notas[-1] == 10 :\n",
        "      nomes_com_dez.append(nomes[-1])\n",
        "    else :\n",
        "      azar = 0\n",
        "    ativo = int(input(\"Deseja adicionar mais um participante? Digite 1 para prosseguir e 0 para sair \"))\n",
        "  indice = 0\n",
        "  adicional = 0\n",
        "  indice_dez = 0\n",
        "  if 10 in notas :\n",
        "    print(f\"A nota mais alta foi: 10\")\n",
        "    for nome in nomes_com_dez :\n",
        "      nome_vencedor10 = nomes_com_dez[indice_dez] \n",
        "      nome_vencedor10 = str(nome_vencedor10).replace('10.0','')\n",
        "      if adicional >= 1 :\n",
        "        print(f\"{nome_vencedor10} também tirou nota máxima\")\n",
        "      else :\n",
        "        print(f\"{nome_vencedor10} tirou nota máxima\")\n",
        "      adicional += 1\n",
        "      indice_dez += 1\n",
        "  else :\n",
        "    notas.sort(reverse=True)\n",
        "    nomes.sort(reverse=True)\n",
        "    nome_vencedor = max(nomes)\n",
        "    nota_vencedor = max(notas)\n",
        "    notas.remove(nota_vencedor)\n",
        "    nota_vencedor = str(nota_vencedor)\n",
        "    nome_vencedor = str(nome_vencedor).replace(nota_vencedor,'')\n",
        "    print(f\"A nota mais alta foi: {nota_vencedor}\")\n",
        "    print(f\"O participante com a nota mais alta foi: {nome_vencedor}\")\n",
        "notas_concurso()"
      ],
      "execution_count": null,
      "outputs": [
        {
          "output_type": "stream",
          "text": [
            "Digite a nota do aluno: 8.5\n",
            "Digite o nome do aluno: matias\n",
            "Deseja adicionar mais um número? Digite 1 para prosseguir e 0 para sair 0\n",
            "A nota mais alta foi: 8.5\n",
            "O aluno com a nota mais alta foi: matias\n"
          ],
          "name": "stdout"
        }
      ]
    },
    {
      "cell_type": "markdown",
      "metadata": {
        "id": "gprWJJd1lIvf"
      },
      "source": [
        "Questão 3 modo easy"
      ]
    },
    {
      "cell_type": "code",
      "metadata": {
        "id": "dcVBEYyQZYL_",
        "outputId": "d75d872e-77a6-464d-8343-12c877cca1fd",
        "colab": {
          "base_uri": "https://localhost:8080/",
          "height": 238
        }
      },
      "source": [
        "def notas_concurso_easy_mode() :\n",
        "  nome1 = input(\"Informe o nome do 1º participante: \")\n",
        "  nota1 = float(input(\"Informe a nota do 1º participante: \"))\n",
        "  while nota1 < 0 or nota1 > 10 :\n",
        "    print(\"Valor para nota inválido\")\n",
        "    nota1 = float(input(\"Informe uma nota válida para o participante: \"))\n",
        "\n",
        "  nome2 = input(\"Informe o nome do 2º participante: \")\n",
        "  nota2 = float(input(\"Informe a nota do 2º participante: \"))\n",
        "  while nota2 < 0 or nota2 > 10 :\n",
        "    print(\"Valor para nota inválido\")\n",
        "    nota2 = float(input(\"Informe uma nota válida para o participante: \"))\n",
        "  \n",
        "  nome3 = input(\"Informe o nome do 3º participante: \")\n",
        "  nota3 = float(input(\"Informe a nota do 3º participante: \"))\n",
        "  while nota3 < 0 or nota3 > 10 :\n",
        "    print(\"Valor para nota inválido\")\n",
        "    nota3 = float(input(\"Informe uma nota válida para o participante: \"))\n",
        "  \n",
        "  nome4 = input(\"Informe o nome do 4º participante: \")\n",
        "  nota4 = float(input(\"Informe a nota do 4º participante: \"))\n",
        "  while nota4 < 0 or nota4 > 10 :\n",
        "    print(\"Valor para nota inválido\")\n",
        "    nota4 = float(input(\"Informe uma nota válida para o participante: \"))\n",
        "  \n",
        "  nome5 = input(\"Informe o nome do 5º participante: \")\n",
        "  nota5 = float(input(\"Informe a nota do 5º participante: \"))\n",
        "  while nota5 < 0 or nota5 > 10 :\n",
        "    print(\"Valor para nota inválido\")\n",
        "    nota5 = float(input(\"Informe uma nota válida para o participante: \"))\n",
        "  \n",
        "  if nota1 > nota2 and nota1 > nota3 and nota1 > nota4 and nota1 > nota5 :\n",
        "    print(f\"A nota mais alta foi: {nota1} e foi obtida pelo(a) participante {nome1}.\")\n",
        "  elif nota2 > nota1 and nota2 > nota3 and nota2 > nota4 and nota2 > nota5 :\n",
        "    print(f\"A nota mais alta foi: {nota2} e foi obtida pelo(a) participante {nome2}.\")\n",
        "  elif nota3 > nota1 and nota3 > nota2 and nota3 > nota4 and nota3 > nota5 :\n",
        "    print(f\"A nota mais alta foi: {nota3} e foi obtida pelo(a) participante {nome3}.\")\n",
        "  elif nota4 > nota1 and nota4 > nota2 and nota4 > nota3 and nota4 > nota5 :\n",
        "    print(f\"A nota mais alta foi: {nota4} e foi obtida pelo(a) participante {nome4}.\")\n",
        "  else :\n",
        "    print(f\"A nota mais alta foi: {nota5} e foi obtida pelo(a) participante {nome5}.\")\n",
        "notas_concurso_easy_mode()"
      ],
      "execution_count": null,
      "outputs": [
        {
          "output_type": "stream",
          "text": [
            "Informe o nome do 1º participante: matias\n",
            "Informe a nota do 1º participante: -5\n",
            "Valor para nota inválido\n",
            "Informe uma nota válida para o participante: 5\n",
            "Informe o nome do 2º participante: mariano\n",
            "Informe a nota do 2º participante: 10\n",
            "Informe o nome do 3º participante: mariana\n",
            "Informe a nota do 3º participante: 9.5\n",
            "Informe o nome do 4º participante: thiago\n",
            "Informe a nota do 4º participante: 8\n",
            "Informe o nome do 5º participante: ata\n",
            "Informe a nota do 5º participante: 9\n",
            "A nota mais alta foi: 10.0 e foi obtida pelo(a) participante mariano.\n"
          ],
          "name": "stdout"
        }
      ]
    },
    {
      "cell_type": "markdown",
      "metadata": {
        "id": "vnGHjlO1QC04"
      },
      "source": [
        "Questão 3 modo complexo"
      ]
    },
    {
      "cell_type": "code",
      "metadata": {
        "id": "10rq0goXQFTp",
        "outputId": "f0eb7fee-9af4-4cf8-fed5-7d6d87fcd887",
        "colab": {
          "base_uri": "https://localhost:8080/",
          "height": 547
        }
      },
      "source": [
        "def notas_concurso_complex_mode() :\n",
        "  ''' Verifica quem venceu a competição com input de nome e nota. Também verifica se mais de um venceu '''\n",
        "  nome1 = input(\"Informe o nome do 1º participante: \")\n",
        "  nota1 = float(input(\"Informe a nota do 1º participante: \"))\n",
        "  while nota1 < 0 or nota1 > 10 :\n",
        "    print(\"Valor para nota inválido\")\n",
        "    nota1 = float(input(\"Informe uma nota válida para o participante: \"))\n",
        "\n",
        "  nome2 = input(\"Informe o nome do 2º participante: \")\n",
        "  nota2 = float(input(\"Informe a nota do 2º participante: \"))\n",
        "  while nota2 < 0 or nota2 > 10 :\n",
        "    print(\"Valor para nota inválido\")\n",
        "    nota2 = float(input(\"Informe uma nota válida para o participante: \"))\n",
        "  \n",
        "  nome3 = input(\"Informe o nome do 3º participante: \")\n",
        "  nota3 = float(input(\"Informe a nota do 3º participante: \"))\n",
        "  while nota3 < 0 or nota3 > 10 :\n",
        "    print(\"Valor para nota inválido\")\n",
        "    nota3 = float(input(\"Informe uma nota válida para o participante: \"))\n",
        "  \n",
        "  nome4 = input(\"Informe o nome do 4º participante: \")\n",
        "  nota4 = float(input(\"Informe a nota do 4º participante: \"))\n",
        "  while nota4 < 0 or nota4 > 10 :\n",
        "    print(\"Valor para nota inválido\")\n",
        "    nota4 = float(input(\"Informe uma nota válida para o participante: \"))\n",
        "  \n",
        "  nome5 = input(\"Informe o nome do 5º participante: \")\n",
        "  nota5 = float(input(\"Informe a nota do 5º participante: \"))\n",
        "  while nota5 < 0 or nota5 > 10 :\n",
        "    print(\"Valor para nota inválido\")\n",
        "    nota5 = float(input(\"Informe uma nota válida para o participante: \"))\n",
        "  \n",
        "  if nota1 > nota2 and nota1 > nota3 and nota1 > nota4 and nota1 > nota5 :\n",
        "    print(f\"A nota mais alta foi: {nota1} e foi obtida pelo(a) participante {nome1}.\")\n",
        "  elif nota1 == nota2 and nota1 > nota3 and nota1 > nota4 and nota1 > nota5 :\n",
        "    print(f\"A nota mais alta foi: {nota1} e foi obtida pelos participantes: {nome1} e {nome2}.\")\n",
        "  elif nota1 > nota2 and nota1 == nota3 and nota1 > nota4 and nota1 > nota5 :\n",
        "    print(f\"A nota mais alta foi: {nota1} e foi obtida pelos participantes: {nome1} e {nome3}.\")\n",
        "  elif nota1 > nota2 and nota1 > nota3 and nota1 == nota4 and nota1 > nota5 :\n",
        "    print(f\"A nota mais alta foi: {nota1} e foi obtida pelos participantes: {nome1} e {nome4}.\")\n",
        "  elif nota1 > nota2 and nota1 > nota3 and nota1 > nota4 and nota1 == nota5 :\n",
        "    print(f\"A nota mais alta foi: {nota1} e foi obtida pelos participantes: {nome1} e {nome5}.\")\n",
        "\n",
        "\n",
        "  elif nota2 > nota1 and nota2 > nota3 and nota2 > nota4 and nota2 > nota5 :\n",
        "    print(f\"A nota mais alta foi: {nota2} e foi obtida pelo(a) participante {nome2}.\")\n",
        "  elif nota2 > nota1 and nota2 == nota3 and nota2 > nota4 and nota2 > nota5 :  \n",
        "    print(f\"A nota mais alta foi: {nota2} e foi obtida pelos participantes: {nome2} e {nome3}.\")\n",
        "  elif nota2 > nota1 and nota2 > nota3 and nota2 == nota4 and nota2 > nota5 :  \n",
        "    print(f\"A nota mais alta foi: {nota2} e foi obtida pelos participantes: {nome2} e {nome4}.\")\n",
        "  elif nota2 > nota1 and nota2 > nota3 and nota2 > nota4 and nota2 == nota5 :  \n",
        "    print(f\"A nota mais alta foi: {nota2} e foi obtida pelos participantes: {nome2} e {nome5}.\")\n",
        "\n",
        "  elif nota3 > nota1 and nota3 > nota2 and nota3 > nota4 and nota3 > nota5 :\n",
        "    print(f\"A nota mais alta foi: {nota3} e foi obtida pelo(a) participante {nome3}.\")\n",
        "  elif nota3 == nota1 and nota3 > nota2 and nota3 > nota4 and nota3 > nota5 :\n",
        "    print(f\"A nota mais alta foi: {nota3} e foi obtida pelos participantes: {nome3} e {nome1}.\")\n",
        "  elif nota3 > nota1 and nota3 > nota2 and nota3 == nota4 and nota3 > nota5 :\n",
        "    print(f\"A nota mais alta foi: {nota3} e foi obtida pelos participantes: {nome3} e {nome4}.\")\n",
        "  elif nota3 > nota1 and nota3 > nota2 and nota3 > nota4 and nota3 == nota5 :\n",
        "    print(f\"A nota mais alta foi: {nota3} e foi obtida pelos participantes: {nome3} e {nome5}.\")\n",
        "\n",
        "\n",
        "  elif nota4 > nota1 and nota4 > nota2 and nota4 > nota3 and nota4 > nota5 :\n",
        "    print(f\"A nota mais alta foi: {nota4} e foi obtida pelo(a) participante {nome4}.\")\n",
        "  elif nota4 == nota1 and nota4 > nota2 and nota4 > nota3 and nota4 > nota5 :\n",
        "    print(f\"A nota mais alta foi: {nota4} e foi obtida pelos participantes: {nome4} e {nome1}.\")\n",
        "  elif nota4 > nota1 and nota4 == nota2 and nota4 > nota3 and nota4 > nota5 :\n",
        "    print(f\"A nota mais alta foi: {nota4} e foi obtida pelos participantes: {nome4} e {nome2}.\")\n",
        "  elif nota4 > nota1 and nota4 > nota2 and nota4 > nota3 and nota4 == nota5 :\n",
        "    print(f\"A nota mais alta foi: {nota4} e foi obtida pelos participantes: {nome4} e {nome5}.\")\n",
        "  \n",
        "  elif nota5 > nota1 and nota5 > nota2 and nota5 > nota3 and nota5 > nota4 :\n",
        "    print(f\"A nota mais alta foi: {nota5} e foi obtida pelo(a) participante {nome5}.\")\n",
        "  elif nota5 == nota1 and nota5 > nota2 and nota5 > nota3 and nota5 > nota4 :\n",
        "    print(f\"A nota mais alta foi: {nota5} e foi obtida pelos participantes: {nome5} e {nome1}.\")\n",
        "  elif nota5 > nota1 and nota5 == nota2 and nota5 > nota3 and nota5 > nota4 :\n",
        "    print(f\"A nota mais alta foi: {nota5} e foi obtida pelos participantes: {nome5} e {nome2}.\")\n",
        "  elif nota5 > nota1 and nota5 > nota2 and nota5 == nota3 and nota5 > nota4 :\n",
        "    print(f\"A nota mais alta foi: {nota5} e foi obtida pelos participantes: {nome5} e {nome3}.\")\n",
        "\n",
        "  elif nota1 == nota2 and nota2 == nota3 and nota3 > nota4 and nota3 > nota5:\n",
        "    print(f\"A nota mais alta foi: {nota1} e foi obtida pelos alunos: {nome1}, {nome2} e {nome3}\")\n",
        "  elif nota1 == nota2 and nota2 == nota4 and nota4 > nota3 and nota4 > nota5:\n",
        "    print(f\"A nota mais alta foi: {nota1} e foi obtida pelos alunos: {nome1}, {nome2} e {nome4}\")\n",
        "  elif nota1 == nota2 and nota2 == nota5 and nota5 > nota3 and nota5 > nota4 :\n",
        "    print(f\"A nota mais alta foi: {nota1} e foi obtida pelos alunos: {nome1}, {nome2} e {nome5}\")\n",
        "  elif nota1 == nota3 and nota3 == nota4 and nota4 > nota2 and nota4 > nota5 :\n",
        "    print(f\"A nota mais alta foi: {nota1} e foi obtida pelos alunos: {nome1}, {nome3} e {nome4}\")\n",
        "  elif nota1 == nota3 and nota3 == nota5 and nota5 > nota2 and nota5> nota4 :\n",
        "    print(f\"A nota mais alta foi: {nota1} e foi obtida pelos alunos: {nome1}, {nome3} e {nome5}\")\n",
        "  elif nota1 == nota4 and nota4 == nota5 and nota5 > nota2 and nota5 > nota3 :\n",
        "    print(f\"A nota mais alta foi: {nota1} e foi obtida pelos alunos: {nome1}, {nome4} e {nome5}\")\n",
        "  elif nota2 == nota3 and nota3 == nota4 and nota4 > nota1 and nota4 > nota5 :\n",
        "    print(f\"A nota mais alta foi: {nota2} e foi obtida pelos alunos: {nome2}, {nome3} e {nome4}\")\n",
        "  elif nota2 == nota4 and nota4 == nota5 and nota5 > nota3 and nota5 > nota1 :\n",
        "    print(f\"A nota mais alta foi: {nota2} e foi obtida pelos alunos: {nome2}, {nome4} e {nome5}\")\n",
        "  elif nota3 == nota4 and nota4 == nota5 and nota5 > nota1 and nota5 > nota2 :\n",
        "    print(f\"A nota mais alta foi: {nota3} e foi obtida pelos alunos: {nome3}, {nome4} e {nome5}\")\n",
        "  elif nota1 == nota2 and nota2 == nota3 and nota3 == nota4 and nota4 > nota5 :\n",
        "    print(f\"A nota mais alta foi: {nota1} e foi obtida pelos alunos: {nome1}, {nome2}, {nome3} e {nome4}\")\n",
        "  elif nota2 == nota3 and nota3 == nota4 and nota4 == nota5 and nota5 > nota1 :\n",
        "    print(f\"A nota mais alta foi: {nota2} e foi obtida pelos alunos: {nome5}, {nome2}, {nome3} e {nome4}\")\n",
        "  elif nota1 == nota3 and nota3 == nota4 and nota4 == nota5 and nota5 > nota2 :\n",
        "    print(f\"A nota mais alta foi: {nota1} e foi obtida pelos alunos: {nome1}, {nome5}, {nome3} e {nome4}\")\n",
        "  elif nota1 == nota2 and nota2 == nota4 and nota4 == nota5 and nota5 > nota3 :\n",
        "    print(f\"A nota mais alta foi: {nota1} e foi obtida pelos alunos: {nome1}, {nome2}, {nome5} e {nome4}\")\n",
        "  elif nota1 == nota2 and nota2 == nota3 and nota3 == nota5 and nota5 > nota4 :\n",
        "    print(f\"A nota mais alta foi: {nota1} e foi obtida pelos alunos: {nome1}, {nome2}, {nome3} e {nome5}\")\n",
        "  else :\n",
        "    print(f\"{nome1}, {nome2}, {nome3}, {nome4} e {nome5} tiraram a mesma nota, {nota1}\")\n",
        "    \n",
        "\n",
        "notas_concurso_complex_mode()"
      ],
      "execution_count": null,
      "outputs": [
        {
          "output_type": "error",
          "ename": "KeyboardInterrupt",
          "evalue": "ignored",
          "traceback": [
            "\u001b[0;31m---------------------------------------------------------------------------\u001b[0m",
            "\u001b[0;31mKeyboardInterrupt\u001b[0m                         Traceback (most recent call last)",
            "\u001b[0;32m/usr/local/lib/python3.6/dist-packages/ipykernel/kernelbase.py\u001b[0m in \u001b[0;36m_input_request\u001b[0;34m(self, prompt, ident, parent, password)\u001b[0m\n\u001b[1;32m    728\u001b[0m             \u001b[0;32mtry\u001b[0m\u001b[0;34m:\u001b[0m\u001b[0;34m\u001b[0m\u001b[0;34m\u001b[0m\u001b[0m\n\u001b[0;32m--> 729\u001b[0;31m                 \u001b[0mident\u001b[0m\u001b[0;34m,\u001b[0m \u001b[0mreply\u001b[0m \u001b[0;34m=\u001b[0m \u001b[0mself\u001b[0m\u001b[0;34m.\u001b[0m\u001b[0msession\u001b[0m\u001b[0;34m.\u001b[0m\u001b[0mrecv\u001b[0m\u001b[0;34m(\u001b[0m\u001b[0mself\u001b[0m\u001b[0;34m.\u001b[0m\u001b[0mstdin_socket\u001b[0m\u001b[0;34m,\u001b[0m \u001b[0;36m0\u001b[0m\u001b[0;34m)\u001b[0m\u001b[0;34m\u001b[0m\u001b[0;34m\u001b[0m\u001b[0m\n\u001b[0m\u001b[1;32m    730\u001b[0m             \u001b[0;32mexcept\u001b[0m \u001b[0mException\u001b[0m\u001b[0;34m:\u001b[0m\u001b[0;34m\u001b[0m\u001b[0;34m\u001b[0m\u001b[0m\n",
            "\u001b[0;32m/usr/local/lib/python3.6/dist-packages/jupyter_client/session.py\u001b[0m in \u001b[0;36mrecv\u001b[0;34m(self, socket, mode, content, copy)\u001b[0m\n\u001b[1;32m    802\u001b[0m         \u001b[0;32mtry\u001b[0m\u001b[0;34m:\u001b[0m\u001b[0;34m\u001b[0m\u001b[0;34m\u001b[0m\u001b[0m\n\u001b[0;32m--> 803\u001b[0;31m             \u001b[0mmsg_list\u001b[0m \u001b[0;34m=\u001b[0m \u001b[0msocket\u001b[0m\u001b[0;34m.\u001b[0m\u001b[0mrecv_multipart\u001b[0m\u001b[0;34m(\u001b[0m\u001b[0mmode\u001b[0m\u001b[0;34m,\u001b[0m \u001b[0mcopy\u001b[0m\u001b[0;34m=\u001b[0m\u001b[0mcopy\u001b[0m\u001b[0;34m)\u001b[0m\u001b[0;34m\u001b[0m\u001b[0;34m\u001b[0m\u001b[0m\n\u001b[0m\u001b[1;32m    804\u001b[0m         \u001b[0;32mexcept\u001b[0m \u001b[0mzmq\u001b[0m\u001b[0;34m.\u001b[0m\u001b[0mZMQError\u001b[0m \u001b[0;32mas\u001b[0m \u001b[0me\u001b[0m\u001b[0;34m:\u001b[0m\u001b[0;34m\u001b[0m\u001b[0;34m\u001b[0m\u001b[0m\n",
            "\u001b[0;32m/usr/local/lib/python3.6/dist-packages/zmq/sugar/socket.py\u001b[0m in \u001b[0;36mrecv_multipart\u001b[0;34m(self, flags, copy, track)\u001b[0m\n\u001b[1;32m    490\u001b[0m         \"\"\"\n\u001b[0;32m--> 491\u001b[0;31m         \u001b[0mparts\u001b[0m \u001b[0;34m=\u001b[0m \u001b[0;34m[\u001b[0m\u001b[0mself\u001b[0m\u001b[0;34m.\u001b[0m\u001b[0mrecv\u001b[0m\u001b[0;34m(\u001b[0m\u001b[0mflags\u001b[0m\u001b[0;34m,\u001b[0m \u001b[0mcopy\u001b[0m\u001b[0;34m=\u001b[0m\u001b[0mcopy\u001b[0m\u001b[0;34m,\u001b[0m \u001b[0mtrack\u001b[0m\u001b[0;34m=\u001b[0m\u001b[0mtrack\u001b[0m\u001b[0;34m)\u001b[0m\u001b[0;34m]\u001b[0m\u001b[0;34m\u001b[0m\u001b[0;34m\u001b[0m\u001b[0m\n\u001b[0m\u001b[1;32m    492\u001b[0m         \u001b[0;31m# have first part already, only loop while more to receive\u001b[0m\u001b[0;34m\u001b[0m\u001b[0;34m\u001b[0m\u001b[0;34m\u001b[0m\u001b[0m\n",
            "\u001b[0;32mzmq/backend/cython/socket.pyx\u001b[0m in \u001b[0;36mzmq.backend.cython.socket.Socket.recv\u001b[0;34m()\u001b[0m\n",
            "\u001b[0;32mzmq/backend/cython/socket.pyx\u001b[0m in \u001b[0;36mzmq.backend.cython.socket.Socket.recv\u001b[0;34m()\u001b[0m\n",
            "\u001b[0;32mzmq/backend/cython/socket.pyx\u001b[0m in \u001b[0;36mzmq.backend.cython.socket._recv_copy\u001b[0;34m()\u001b[0m\n",
            "\u001b[0;32m/usr/local/lib/python3.6/dist-packages/zmq/backend/cython/checkrc.pxd\u001b[0m in \u001b[0;36mzmq.backend.cython.checkrc._check_rc\u001b[0;34m()\u001b[0m\n",
            "\u001b[0;31mKeyboardInterrupt\u001b[0m: ",
            "\nDuring handling of the above exception, another exception occurred:\n",
            "\u001b[0;31mKeyboardInterrupt\u001b[0m                         Traceback (most recent call last)",
            "\u001b[0;32m<ipython-input-2-150cbffb88f5>\u001b[0m in \u001b[0;36m<module>\u001b[0;34m()\u001b[0m\n\u001b[1;32m    112\u001b[0m \u001b[0;34m\u001b[0m\u001b[0m\n\u001b[1;32m    113\u001b[0m \u001b[0;34m\u001b[0m\u001b[0m\n\u001b[0;32m--> 114\u001b[0;31m \u001b[0mnotas_concurso_complex_mode\u001b[0m\u001b[0;34m(\u001b[0m\u001b[0;34m)\u001b[0m\u001b[0;34m\u001b[0m\u001b[0;34m\u001b[0m\u001b[0m\n\u001b[0m",
            "\u001b[0;32m<ipython-input-2-150cbffb88f5>\u001b[0m in \u001b[0;36mnotas_concurso_complex_mode\u001b[0;34m()\u001b[0m\n\u001b[1;32m      1\u001b[0m \u001b[0;32mdef\u001b[0m \u001b[0mnotas_concurso_complex_mode\u001b[0m\u001b[0;34m(\u001b[0m\u001b[0;34m)\u001b[0m \u001b[0;34m:\u001b[0m\u001b[0;34m\u001b[0m\u001b[0;34m\u001b[0m\u001b[0m\n\u001b[1;32m      2\u001b[0m   \u001b[0;34m''' Verifica quem venceu a competição com input de nome e nota. Também verifica se mais de um venceu '''\u001b[0m\u001b[0;34m\u001b[0m\u001b[0;34m\u001b[0m\u001b[0m\n\u001b[0;32m----> 3\u001b[0;31m   \u001b[0mnome1\u001b[0m \u001b[0;34m=\u001b[0m \u001b[0minput\u001b[0m\u001b[0;34m(\u001b[0m\u001b[0;34m\"Informe o nome do 1º participante: \"\u001b[0m\u001b[0;34m)\u001b[0m\u001b[0;34m\u001b[0m\u001b[0;34m\u001b[0m\u001b[0m\n\u001b[0m\u001b[1;32m      4\u001b[0m   \u001b[0mnota1\u001b[0m \u001b[0;34m=\u001b[0m \u001b[0mfloat\u001b[0m\u001b[0;34m(\u001b[0m\u001b[0minput\u001b[0m\u001b[0;34m(\u001b[0m\u001b[0;34m\"Informe a nota do 1º participante: \"\u001b[0m\u001b[0;34m)\u001b[0m\u001b[0;34m)\u001b[0m\u001b[0;34m\u001b[0m\u001b[0;34m\u001b[0m\u001b[0m\n\u001b[1;32m      5\u001b[0m   \u001b[0;32mwhile\u001b[0m \u001b[0mnota1\u001b[0m \u001b[0;34m<\u001b[0m \u001b[0;36m0\u001b[0m \u001b[0;32mor\u001b[0m \u001b[0mnota1\u001b[0m \u001b[0;34m>\u001b[0m \u001b[0;36m10\u001b[0m \u001b[0;34m:\u001b[0m\u001b[0;34m\u001b[0m\u001b[0;34m\u001b[0m\u001b[0m\n",
            "\u001b[0;32m/usr/local/lib/python3.6/dist-packages/ipykernel/kernelbase.py\u001b[0m in \u001b[0;36mraw_input\u001b[0;34m(self, prompt)\u001b[0m\n\u001b[1;32m    702\u001b[0m             \u001b[0mself\u001b[0m\u001b[0;34m.\u001b[0m\u001b[0m_parent_ident\u001b[0m\u001b[0;34m,\u001b[0m\u001b[0;34m\u001b[0m\u001b[0;34m\u001b[0m\u001b[0m\n\u001b[1;32m    703\u001b[0m             \u001b[0mself\u001b[0m\u001b[0;34m.\u001b[0m\u001b[0m_parent_header\u001b[0m\u001b[0;34m,\u001b[0m\u001b[0;34m\u001b[0m\u001b[0;34m\u001b[0m\u001b[0m\n\u001b[0;32m--> 704\u001b[0;31m             \u001b[0mpassword\u001b[0m\u001b[0;34m=\u001b[0m\u001b[0;32mFalse\u001b[0m\u001b[0;34m,\u001b[0m\u001b[0;34m\u001b[0m\u001b[0;34m\u001b[0m\u001b[0m\n\u001b[0m\u001b[1;32m    705\u001b[0m         )\n\u001b[1;32m    706\u001b[0m \u001b[0;34m\u001b[0m\u001b[0m\n",
            "\u001b[0;32m/usr/local/lib/python3.6/dist-packages/ipykernel/kernelbase.py\u001b[0m in \u001b[0;36m_input_request\u001b[0;34m(self, prompt, ident, parent, password)\u001b[0m\n\u001b[1;32m    732\u001b[0m             \u001b[0;32mexcept\u001b[0m \u001b[0mKeyboardInterrupt\u001b[0m\u001b[0;34m:\u001b[0m\u001b[0;34m\u001b[0m\u001b[0;34m\u001b[0m\u001b[0m\n\u001b[1;32m    733\u001b[0m                 \u001b[0;31m# re-raise KeyboardInterrupt, to truncate traceback\u001b[0m\u001b[0;34m\u001b[0m\u001b[0;34m\u001b[0m\u001b[0;34m\u001b[0m\u001b[0m\n\u001b[0;32m--> 734\u001b[0;31m                 \u001b[0;32mraise\u001b[0m \u001b[0mKeyboardInterrupt\u001b[0m\u001b[0;34m\u001b[0m\u001b[0;34m\u001b[0m\u001b[0m\n\u001b[0m\u001b[1;32m    735\u001b[0m             \u001b[0;32melse\u001b[0m\u001b[0;34m:\u001b[0m\u001b[0;34m\u001b[0m\u001b[0;34m\u001b[0m\u001b[0m\n\u001b[1;32m    736\u001b[0m                 \u001b[0;32mbreak\u001b[0m\u001b[0;34m\u001b[0m\u001b[0;34m\u001b[0m\u001b[0m\n",
            "\u001b[0;31mKeyboardInterrupt\u001b[0m: "
          ]
        }
      ]
    },
    {
      "cell_type": "markdown",
      "metadata": {
        "id": "YzPWMQ7g3vHZ"
      },
      "source": [
        "Questão 3 alternativa"
      ]
    },
    {
      "cell_type": "code",
      "metadata": {
        "id": "RbbmJwY63xIK",
        "outputId": "e6de35a4-8c2f-4aa6-872c-12a58885168d",
        "colab": {
          "base_uri": "https://localhost:8080/",
          "height": 547
        }
      },
      "source": [
        "def notas_concurso_alternative():\n",
        "  #definir as variáveis e listas\n",
        "  listanomes = []\n",
        "  listanotas = []\n",
        "  nota_range_atual = 0\n",
        "  vencedor = ''\n",
        "  qto = int(input(\"Qual o número de participantes? \"))\n",
        "  participanteM = 1\n",
        "\n",
        "  #O enquanto vai repetir pelo número de candidatos\n",
        "  for a in range(qto):\n",
        "    #vai receber o nome e depois a nota\n",
        "    nome = str(input(f\"Informe o nome do {participanteM}º participante: \"))\n",
        "    nota = float(input(f\"Informe a nota do {participanteM}º participante: \"))\n",
        "\n",
        "    #se for válido vai continuar, se não repetir a pergunta\n",
        "    while (nota < 10 or nota > 10):\n",
        "      print(\"Valor inválido para nota, informe entre 0-10.\")\n",
        "      nota = float(input(f\"Informe a nota do {participanteM}º participante: \"))\n",
        "\n",
        "    #aumentar o número do participante atual (detalhe visual)\n",
        "    participanteM += 1\n",
        "\n",
        "    #adicionar o nome na lista própria\n",
        "    listanomes.append(nome)\n",
        "    #adicionar a nota na lista própria\n",
        "    listanotas.append(nota)\n",
        "\n",
        "  #enquanto tiver candidatos vai repetir\n",
        "  for a in range(qto):\n",
        "    #Se a nota atual da lista for maior que a nota salva na variável, ele vai salvar o nome e o vencedor em variáveis\n",
        "    if listanotas[a] > nota_range_atual:\n",
        "      nota_range_atual = listanotas[a]\n",
        "      vencedor = listanomes[a]\n",
        "\n",
        "  # print final do vencedor e nota\n",
        "  print(f\"O(a) vencedor foi {vencedor} com a nota {nota_range_atual}\")\n",
        "\n",
        "\n",
        "notas_concurso_alternative()"
      ],
      "execution_count": null,
      "outputs": [
        {
          "output_type": "error",
          "ename": "KeyboardInterrupt",
          "evalue": "ignored",
          "traceback": [
            "\u001b[0;31m---------------------------------------------------------------------------\u001b[0m",
            "\u001b[0;31mKeyboardInterrupt\u001b[0m                         Traceback (most recent call last)",
            "\u001b[0;32m/usr/local/lib/python3.6/dist-packages/ipykernel/kernelbase.py\u001b[0m in \u001b[0;36m_input_request\u001b[0;34m(self, prompt, ident, parent, password)\u001b[0m\n\u001b[1;32m    728\u001b[0m             \u001b[0;32mtry\u001b[0m\u001b[0;34m:\u001b[0m\u001b[0;34m\u001b[0m\u001b[0;34m\u001b[0m\u001b[0m\n\u001b[0;32m--> 729\u001b[0;31m                 \u001b[0mident\u001b[0m\u001b[0;34m,\u001b[0m \u001b[0mreply\u001b[0m \u001b[0;34m=\u001b[0m \u001b[0mself\u001b[0m\u001b[0;34m.\u001b[0m\u001b[0msession\u001b[0m\u001b[0;34m.\u001b[0m\u001b[0mrecv\u001b[0m\u001b[0;34m(\u001b[0m\u001b[0mself\u001b[0m\u001b[0;34m.\u001b[0m\u001b[0mstdin_socket\u001b[0m\u001b[0;34m,\u001b[0m \u001b[0;36m0\u001b[0m\u001b[0;34m)\u001b[0m\u001b[0;34m\u001b[0m\u001b[0;34m\u001b[0m\u001b[0m\n\u001b[0m\u001b[1;32m    730\u001b[0m             \u001b[0;32mexcept\u001b[0m \u001b[0mException\u001b[0m\u001b[0;34m:\u001b[0m\u001b[0;34m\u001b[0m\u001b[0;34m\u001b[0m\u001b[0m\n",
            "\u001b[0;32m/usr/local/lib/python3.6/dist-packages/jupyter_client/session.py\u001b[0m in \u001b[0;36mrecv\u001b[0;34m(self, socket, mode, content, copy)\u001b[0m\n\u001b[1;32m    802\u001b[0m         \u001b[0;32mtry\u001b[0m\u001b[0;34m:\u001b[0m\u001b[0;34m\u001b[0m\u001b[0;34m\u001b[0m\u001b[0m\n\u001b[0;32m--> 803\u001b[0;31m             \u001b[0mmsg_list\u001b[0m \u001b[0;34m=\u001b[0m \u001b[0msocket\u001b[0m\u001b[0;34m.\u001b[0m\u001b[0mrecv_multipart\u001b[0m\u001b[0;34m(\u001b[0m\u001b[0mmode\u001b[0m\u001b[0;34m,\u001b[0m \u001b[0mcopy\u001b[0m\u001b[0;34m=\u001b[0m\u001b[0mcopy\u001b[0m\u001b[0;34m)\u001b[0m\u001b[0;34m\u001b[0m\u001b[0;34m\u001b[0m\u001b[0m\n\u001b[0m\u001b[1;32m    804\u001b[0m         \u001b[0;32mexcept\u001b[0m \u001b[0mzmq\u001b[0m\u001b[0;34m.\u001b[0m\u001b[0mZMQError\u001b[0m \u001b[0;32mas\u001b[0m \u001b[0me\u001b[0m\u001b[0;34m:\u001b[0m\u001b[0;34m\u001b[0m\u001b[0;34m\u001b[0m\u001b[0m\n",
            "\u001b[0;32m/usr/local/lib/python3.6/dist-packages/zmq/sugar/socket.py\u001b[0m in \u001b[0;36mrecv_multipart\u001b[0;34m(self, flags, copy, track)\u001b[0m\n\u001b[1;32m    490\u001b[0m         \"\"\"\n\u001b[0;32m--> 491\u001b[0;31m         \u001b[0mparts\u001b[0m \u001b[0;34m=\u001b[0m \u001b[0;34m[\u001b[0m\u001b[0mself\u001b[0m\u001b[0;34m.\u001b[0m\u001b[0mrecv\u001b[0m\u001b[0;34m(\u001b[0m\u001b[0mflags\u001b[0m\u001b[0;34m,\u001b[0m \u001b[0mcopy\u001b[0m\u001b[0;34m=\u001b[0m\u001b[0mcopy\u001b[0m\u001b[0;34m,\u001b[0m \u001b[0mtrack\u001b[0m\u001b[0;34m=\u001b[0m\u001b[0mtrack\u001b[0m\u001b[0;34m)\u001b[0m\u001b[0;34m]\u001b[0m\u001b[0;34m\u001b[0m\u001b[0;34m\u001b[0m\u001b[0m\n\u001b[0m\u001b[1;32m    492\u001b[0m         \u001b[0;31m# have first part already, only loop while more to receive\u001b[0m\u001b[0;34m\u001b[0m\u001b[0;34m\u001b[0m\u001b[0;34m\u001b[0m\u001b[0m\n",
            "\u001b[0;32mzmq/backend/cython/socket.pyx\u001b[0m in \u001b[0;36mzmq.backend.cython.socket.Socket.recv\u001b[0;34m()\u001b[0m\n",
            "\u001b[0;32mzmq/backend/cython/socket.pyx\u001b[0m in \u001b[0;36mzmq.backend.cython.socket.Socket.recv\u001b[0;34m()\u001b[0m\n",
            "\u001b[0;32mzmq/backend/cython/socket.pyx\u001b[0m in \u001b[0;36mzmq.backend.cython.socket._recv_copy\u001b[0;34m()\u001b[0m\n",
            "\u001b[0;32m/usr/local/lib/python3.6/dist-packages/zmq/backend/cython/checkrc.pxd\u001b[0m in \u001b[0;36mzmq.backend.cython.checkrc._check_rc\u001b[0;34m()\u001b[0m\n",
            "\u001b[0;31mKeyboardInterrupt\u001b[0m: ",
            "\nDuring handling of the above exception, another exception occurred:\n",
            "\u001b[0;31mKeyboardInterrupt\u001b[0m                         Traceback (most recent call last)",
            "\u001b[0;32m<ipython-input-8-9b10ca8d3d04>\u001b[0m in \u001b[0;36m<module>\u001b[0;34m()\u001b[0m\n\u001b[1;32m     38\u001b[0m \u001b[0;34m\u001b[0m\u001b[0m\n\u001b[1;32m     39\u001b[0m \u001b[0;34m\u001b[0m\u001b[0m\n\u001b[0;32m---> 40\u001b[0;31m \u001b[0mnotas_concurso_alternative\u001b[0m\u001b[0;34m(\u001b[0m\u001b[0;34m)\u001b[0m\u001b[0;34m\u001b[0m\u001b[0;34m\u001b[0m\u001b[0m\n\u001b[0m",
            "\u001b[0;32m<ipython-input-8-9b10ca8d3d04>\u001b[0m in \u001b[0;36mnotas_concurso_alternative\u001b[0;34m()\u001b[0m\n\u001b[1;32m      5\u001b[0m   \u001b[0mnota_range_atual\u001b[0m \u001b[0;34m=\u001b[0m \u001b[0;36m0\u001b[0m\u001b[0;34m\u001b[0m\u001b[0;34m\u001b[0m\u001b[0m\n\u001b[1;32m      6\u001b[0m   \u001b[0mvencedor\u001b[0m \u001b[0;34m=\u001b[0m \u001b[0;34m''\u001b[0m\u001b[0;34m\u001b[0m\u001b[0;34m\u001b[0m\u001b[0m\n\u001b[0;32m----> 7\u001b[0;31m   \u001b[0mqto\u001b[0m \u001b[0;34m=\u001b[0m \u001b[0mint\u001b[0m\u001b[0;34m(\u001b[0m\u001b[0minput\u001b[0m\u001b[0;34m(\u001b[0m\u001b[0;34m\"Qual o número de participantes? \"\u001b[0m\u001b[0;34m)\u001b[0m\u001b[0;34m)\u001b[0m\u001b[0;34m\u001b[0m\u001b[0;34m\u001b[0m\u001b[0m\n\u001b[0m\u001b[1;32m      8\u001b[0m   \u001b[0mparticipanteM\u001b[0m \u001b[0;34m=\u001b[0m \u001b[0;36m1\u001b[0m\u001b[0;34m\u001b[0m\u001b[0;34m\u001b[0m\u001b[0m\n\u001b[1;32m      9\u001b[0m \u001b[0;34m\u001b[0m\u001b[0m\n",
            "\u001b[0;32m/usr/local/lib/python3.6/dist-packages/ipykernel/kernelbase.py\u001b[0m in \u001b[0;36mraw_input\u001b[0;34m(self, prompt)\u001b[0m\n\u001b[1;32m    702\u001b[0m             \u001b[0mself\u001b[0m\u001b[0;34m.\u001b[0m\u001b[0m_parent_ident\u001b[0m\u001b[0;34m,\u001b[0m\u001b[0;34m\u001b[0m\u001b[0;34m\u001b[0m\u001b[0m\n\u001b[1;32m    703\u001b[0m             \u001b[0mself\u001b[0m\u001b[0;34m.\u001b[0m\u001b[0m_parent_header\u001b[0m\u001b[0;34m,\u001b[0m\u001b[0;34m\u001b[0m\u001b[0;34m\u001b[0m\u001b[0m\n\u001b[0;32m--> 704\u001b[0;31m             \u001b[0mpassword\u001b[0m\u001b[0;34m=\u001b[0m\u001b[0;32mFalse\u001b[0m\u001b[0;34m,\u001b[0m\u001b[0;34m\u001b[0m\u001b[0;34m\u001b[0m\u001b[0m\n\u001b[0m\u001b[1;32m    705\u001b[0m         )\n\u001b[1;32m    706\u001b[0m \u001b[0;34m\u001b[0m\u001b[0m\n",
            "\u001b[0;32m/usr/local/lib/python3.6/dist-packages/ipykernel/kernelbase.py\u001b[0m in \u001b[0;36m_input_request\u001b[0;34m(self, prompt, ident, parent, password)\u001b[0m\n\u001b[1;32m    732\u001b[0m             \u001b[0;32mexcept\u001b[0m \u001b[0mKeyboardInterrupt\u001b[0m\u001b[0;34m:\u001b[0m\u001b[0;34m\u001b[0m\u001b[0;34m\u001b[0m\u001b[0m\n\u001b[1;32m    733\u001b[0m                 \u001b[0;31m# re-raise KeyboardInterrupt, to truncate traceback\u001b[0m\u001b[0;34m\u001b[0m\u001b[0;34m\u001b[0m\u001b[0;34m\u001b[0m\u001b[0m\n\u001b[0;32m--> 734\u001b[0;31m                 \u001b[0;32mraise\u001b[0m \u001b[0mKeyboardInterrupt\u001b[0m\u001b[0;34m\u001b[0m\u001b[0;34m\u001b[0m\u001b[0m\n\u001b[0m\u001b[1;32m    735\u001b[0m             \u001b[0;32melse\u001b[0m\u001b[0;34m:\u001b[0m\u001b[0;34m\u001b[0m\u001b[0;34m\u001b[0m\u001b[0m\n\u001b[1;32m    736\u001b[0m                 \u001b[0;32mbreak\u001b[0m\u001b[0;34m\u001b[0m\u001b[0;34m\u001b[0m\u001b[0m\n",
            "\u001b[0;31mKeyboardInterrupt\u001b[0m: "
          ]
        }
      ]
    }
  ]
}