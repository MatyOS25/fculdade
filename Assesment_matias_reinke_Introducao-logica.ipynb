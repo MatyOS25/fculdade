{
  "nbformat": 4,
  "nbformat_minor": 0,
  "metadata": {
    "colab": {
      "name": "Assesment_matias_reinke.ipynb",
      "provenance": [],
      "collapsed_sections": [],
      "include_colab_link": true
    },
    "kernelspec": {
      "name": "python3",
      "display_name": "Python 3"
    }
  },
  "cells": [
    {
      "cell_type": "markdown",
      "metadata": {
        "id": "view-in-github",
        "colab_type": "text"
      },
      "source": [
        "<a href=\"https://colab.research.google.com/github/MatyOS25/fculdade/blob/master/Assesment_matias_reinke_Introducao-logica.ipynb\" target=\"_parent\"><img src=\"https://colab.research.google.com/assets/colab-badge.svg\" alt=\"Open In Colab\"/></a>"
      ]
    },
    {
      "cell_type": "markdown",
      "metadata": {
        "id": "DUYv0j-Xgy2s"
      },
      "source": [
        "Questão 3"
      ]
    },
    {
      "cell_type": "code",
      "metadata": {
        "id": "g74TDRpggx3b",
        "outputId": "407f03ae-0aef-44fa-83f6-9628f15b98a2",
        "colab": {
          "base_uri": "https://localhost:8080/",
          "height": 136
        }
      },
      "source": [
        "def calculo_financeiro():\n",
        "  '''Calculo financeiro '''\n",
        "  \n",
        "  # inputs e regras\n",
        "  renda_mensal_total = float(input(\"Qual a renda total mensal? R$\"))\n",
        "  while renda_mensal_total < 0:\n",
        "    renda_mensal_total = float(input(\"Qual a renda total mensal? R$\"))\n",
        "\n",
        "  gasto_moradia = float(input(\"Qual o gasto total com moradia? R$\"))\n",
        "  while gasto_moradia < 0:\n",
        "    gasto_moradia = float(input(\"Qual o gasto total com moradia? R$\"))\n",
        "\n",
        "  gasto_educacao = float(input(\"Qual o gasto total com educação? R$\"))\n",
        "  while gasto_educacao < 0:\n",
        "    gasto_educacao = float(input(\"Qual o gasto total com educação? R$\"))\n",
        "\n",
        "  gasto_transporte =  float(input(\"Qual o gasto total com transporte? R$\"))\n",
        "  while gasto_transporte < 0:\n",
        "    gasto_transporte =  float(input(\"Qual o gasto total com transporte? R$\"))\n",
        "  \n",
        "  total = gasto_moradia + gasto_educacao + gasto_transporte\n",
        "  while total > renda_mensal_total :\n",
        "    print(\"Gastos maiores que a renda mensal, reincira os dados ou quite suas dívidas\")\n",
        "    renda_mensal_total = float(input(\"Qual a renda total mensal? R$\"))\n",
        "    gasto_moradia = float(input(\"Qual o gasto total com moradia? R$\"))\n",
        "    gasto_educacao = float(input(\"Qual o gasto total com educação? R$\"))\n",
        "    gasto_transporte =  float(input(\"Qual o gasto total com transporte? R$\"))\n",
        "    total = gasto_moradia + gasto_educacao + gasto_transporte\n",
        "\n",
        "  #cálculos\n",
        "  recomendado_moradia = renda_mensal_total * 0.3\n",
        "  atual_moradia = ( gasto_moradia / renda_mensal_total ) * 100\n",
        "\n",
        "  recomendado_educacao = renda_mensal_total * 0.2\n",
        "  atual_educacao = ( gasto_educacao / renda_mensal_total ) * 100\n",
        "\n",
        "  recomendado_transporte = renda_mensal_total * 0.15\n",
        "  atual_transporte = ( gasto_transporte / renda_mensal_total ) * 100\n",
        "\n",
        "  #ajustes visuais\n",
        "  atual_moradia = round(atual_moradia, 2)\n",
        "  atual_educacao = round(atual_educacao, 2)\n",
        "  atual_transporte = round(atual_transporte, 2)\n",
        "  recomendado_educacao = round(recomendado_educacao, 2)\n",
        "  recomendado_moradia = round(recomendado_moradia, 2)\n",
        "  recomendado_transporte = round(recomendado_transporte, 2)\n",
        "\n",
        "  # regras de exibição\n",
        "  if gasto_moradia <= recomendado_moradia :\n",
        "    print(f\"Seus gastor totais com moradia representam {atual_moradia}% de sua renda total. O máximo recomendado é 30% Seus gastos estão dentro da margem recomendada.\")\n",
        "  else :\n",
        "    print(f\"Seus gastos totais com moradia comprometem {atual_moradia}% de sua renda total. O máximo recomendado é de 30% Portanto, idealmente, o máximo de sua renda comprometida com moradia deveria ser de R$ {recomendado_moradia}\")\n",
        "\n",
        "  if gasto_educacao <= recomendado_educacao :\n",
        "    print(f\"Seus gastor totais com educação representam {atual_educacao}% de sua renda total. O máximo recomendado é 20% Seus gastos estão dentro da margem recomendada.\")\n",
        "  else :\n",
        "    print(f\"Seus gastos totais com educação comprometem {atual_educacao}% de sua renda total. O máximo recomendado é de 20% Portanto, idealmente, o máximo de sua renda comprometida com educação deveria ser de R$ {recomendado_educacao}\")\n",
        "  \n",
        "  if gasto_transporte <= recomendado_transporte :\n",
        "    print(f\"Seus gastor totais com transporte representam {atual_transporte}% de sua renda total. O máximo recomendado é 15% Seus gastos estão dentro da margem recomendada.\")\n",
        "  else :\n",
        "    print(f\"Seus gastos totais com transporte comprometem {atual_transporte}% de sua renda total. O máximo recomendado é de 15% Portanto, idealmente, o máximo de sua renda comprometida com transporte deveria ser de R$ {recomendado_transporte}\")\n",
        "\n",
        "calculo_financeiro()"
      ],
      "execution_count": null,
      "outputs": [
        {
          "output_type": "stream",
          "text": [
            "Qual a renda total mensal? R$5000\n",
            "Qual o gasto total com moradia? R$750\n",
            "Qual o gasto total com educação? R$500\n",
            "Qual o gasto total com transporte? R$505\n",
            "Seus gastor totais com moradia representam 15.0% de sua renda total. O máximo recomendado é 30% Seus gastos estão dentro da margem recomendada.\n",
            "Seus gastor totais com educação representam 10.0% de sua renda total. O máximo recomendado é 20% Seus gastos estão dentro da margem recomendada.\n",
            "Seus gastor totais com transporte representam 10.1% de sua renda total. O máximo recomendado é 15% Seus gastos estão dentro da margem recomendada.\n"
          ],
          "name": "stdout"
        }
      ]
    },
    {
      "cell_type": "markdown",
      "metadata": {
        "id": "FcX5Tkg2D1AV"
      },
      "source": [
        "Questão 4"
      ]
    },
    {
      "cell_type": "code",
      "metadata": {
        "id": "f64Yn0fuD2mc",
        "outputId": "95ba4639-5e70-49c7-ac97-f28e9c88bbef",
        "colab": {
          "base_uri": "https://localhost:8080/",
          "height": 442
        }
      },
      "source": [
        "#biblioteca matplot para os gráficos\n",
        "import matplotlib.pyplot as plt\n",
        "  \n",
        "def calcular_juros():\n",
        "    #inputs e variáveis\n",
        "    valor_inicial = float(input(\"Qual o valor inicial investido? R$\"))\n",
        "    while valor_inicial < 0 :\n",
        "      print(\"Valor inválido\")\n",
        "      valor_inicial = float(input(\"Qual o valor inicial investido? R$\"))\n",
        "    \n",
        "    \n",
        "    investimento_mensal_continuo = float(input(\"Qual o investimento fixo mensal? R$\"))\n",
        "    while investimento_mensal_continuo < 0 :\n",
        "      print(\"Valor inválido\")\n",
        "      investimento_mensal_continuo = float(input(\"Qual o investimento fixo mensal? R$\"))\n",
        "    \n",
        "    rendimento_mensal = float(input(\"Qual o rendimento mensal em porcentagem? \"))\n",
        "    while rendimento_mensal < 0:\n",
        "      print(\"Valor inválido\")\n",
        "      rendimento_mensal = float(input(\"Qual o rendimento mensal em porcentagem? \"))\n",
        "    \n",
        "    #vou usar o float pra facilitar calculos\n",
        "    meses_investimento = int(input(\"Por quantos meses você pretende investir ou observar o investimento? \"))\n",
        "    while meses_investimento < 0:\n",
        "      print(\"Valor inválido\")\n",
        "      meses_investimento = int(input(\"Por quantos meses você pretende investir ou observar o investimento? \"))\n",
        "    \n",
        "    #lista para o gráfico\n",
        "    meses_eixo_x = []\n",
        "    valores_eixo_y = []\n",
        "\n",
        "    #preparação cálculos\n",
        "    valor_atual = valor_inicial\n",
        "    aleatorio = 0\n",
        "    #Exibição\n",
        "    exibicao = int(input(\"Deseja exibir o resultado de cada mês? Se sim digite 1. Se deseja exibir apenas o do mês inicial e final digite 2. E se não deseja exibir nenhum resultado digite 3. \"))\n",
        "\n",
        "    #calculos, inclusões nos eixos pro gráfico e exibição\n",
        "    for mes in range(1, meses_investimento + 1):\n",
        "      rendimento_atual_mes = (valor_atual * rendimento_mensal) / 100\n",
        "      valor_atual = valor_atual + rendimento_atual_mes + investimento_mensal_continuo\n",
        "      valor_atual = round(valor_atual, 2)\n",
        "      meses_eixo_x.append(int(mes))\n",
        "      valores_eixo_y.append(float(valor_atual))\n",
        "      if exibicao == 1:\n",
        "        if mes == 1:\n",
        "          print(f\"Após {mes} mês, o valor será de R$ {valor_atual}\")\n",
        "        else : \n",
        "          print(f\"Após {mes} meses, o valor será de R$ {valor_atual}\")\n",
        "      elif exibicao == 2:\n",
        "        if mes == 1:\n",
        "          print(f\"Após {mes} mês, o valor será de R$ {valor_atual}\")\n",
        "        elif mes == meses_investimento:\n",
        "          print(f\"Após {mes} meses, o valor será de R$ {valor_atual}\")\n",
        "        else :\n",
        "          aleatorio = 0\n",
        "      else :\n",
        "        aleatorio = 0\n",
        "        \n",
        "    \n",
        "    #Definir se quer gráfico\n",
        "    sim_nao = int(input(\"Deseja exibir os resultados em um gráfico? Digite 1 para sim ou 0 para não: \"))\n",
        "    if  sim_nao == 1:\n",
        "      plt.plot(meses_eixo_x, valores_eixo_y)\n",
        "      plt.xlabel('Meses')\n",
        "      plt.ylabel('Valores em Reais')\n",
        "      plt.title(f'Projeção dos Juros Compostos de {meses_investimento} meses')\n",
        "      plt.show\n",
        "\n",
        "    else :\n",
        "      print(\"Obrigado por utilizar nosso programa. Contribua em nosso Paypal para mais projetos.\")\n",
        "calcular_juros()"
      ],
      "execution_count": null,
      "outputs": [
        {
          "output_type": "stream",
          "text": [
            "Qual o valor inicial investido? R$10000\n",
            "Qual o investimento fixo mensal? R$1000\n",
            "Qual o rendimento mensal em porcentagem? 0.54\n",
            "Por quantos meses você pretende investir ou observar o investimento? 120\n",
            "Deseja exibir o resultado de cada mês? Se sim digite 1. Se deseja exibir apenas o do mês inicial e final digite 2. E se não deseja exibir nenhum resultado digite 3. 2\n",
            "Após 1 mês, o valor será de R$ 11054.0\n",
            "Após 120 meses, o valor será de R$ 187303.08\n",
            "Deseja exibir os resultados em um gráfico? Digite 1 para sim ou 0 para não: 1\n"
          ],
          "name": "stdout"
        },
        {
          "output_type": "display_data",
          "data": {
            "image/png": "[encoded data removed]",
            "text/plain": [
              "<Figure size 432x288 with 1 Axes>"
            ]
          },
          "metadata": {
            "tags": [],
            "needs_background": "light"
          }
        }
      ]
    },
    {
      "cell_type": "markdown",
      "metadata": {
        "id": "gWPawZnFDgpE"
      },
      "source": [
        "Questão 5"
      ]
    },
    {
      "cell_type": "code",
      "metadata": {
        "id": "fJZTDPJADjvl",
        "outputId": "e9cf75b9-10a7-409e-8e98-823c88e18460",
        "colab": {
          "base_uri": "https://localhost:8080/",
          "height": 414
        }
      },
      "source": [
        "from matplotlib import pyplot as plt\n",
        "import numpy as np\n",
        "\n",
        "def calculo(valor_inicial, valor_final):\n",
        "  valor_inicial, valor_final = float(valor_inicial), float(valor_final)\n",
        "  calcular = ((valor_final - valor_inicial) / valor_inicial) * 100\n",
        "  return round(calcular, 2)\n",
        "\n",
        "def pib():\n",
        "  planilha = open('sample_data/planilha.csv', 'r')\n",
        "  extracao_dados = planilha.read()\n",
        "  linhas = extracao_dados.splitlines()\n",
        "  extracao_dados_rotulos = linhas[0]\n",
        "  cabecalho = extracao_dados_rotulos.split(\",\")\n",
        "  dados_paises = linhas[1:]\n",
        "  lista_paises = []\n",
        "  \n",
        "  questao = int(input(\"Qual questão você deseja ir? 5.a == 1 , 5.b == 2 e 5.c == 3 \"))\n",
        "  if questao == 1:  \n",
        "    ano = input(\"Informe um ano entre 2013 e 2020: \")\n",
        "    teste = 0\n",
        "\n",
        "    if ano in cabecalho:\n",
        "      ano_index = cabecalho.index(ano)\n",
        "      pais_escolhido = input(\"Qual o país desejado? \")\n",
        "      for pais in dados_paises:\n",
        "        pais = pais.split(\",\")\n",
        "        lista_paises.append(pais)\n",
        "        if pais[0].lower() == pais_escolhido.lower():\n",
        "          teste = 1\n",
        "          print(f\"PIB {pais[0]} em {ano} de US${pais[ano_index]} trilhões.\")\n",
        "      if teste == 0 :\n",
        "        print(\"País não disponível\")  \n",
        "      else: \n",
        "        teste = 0\n",
        "\n",
        "    else: \n",
        "      print(\"Ano não encontrado\")\n",
        "\n",
        "    print(\"\")\n",
        "    print(\"\")\n",
        "    print(\"Para ir para outra questão reinicie o programa e escolha outra opção!\")\n",
        "  elif questao == 2:\n",
        "    for pais in dados_paises:\n",
        "      pais = pais.split(\",\")\n",
        "      print(f\"{pais[0]:18}\\t Variação de {calculo(pais[1], pais[-1])}% entre 2013 e 2020.\")\n",
        "    print(\"\")\n",
        "    print(\"\")\n",
        "    print(\"Para ir para outra questão reinicie o programa e escolha outra opção!\")\n",
        "  elif questao == 3:\n",
        "    pais_ano_eixo_x = []\n",
        "    pais_valor_eixo_y = []\n",
        "    pais_escolhido = input(\"Qual o país desejado, para visualizar o gráfico? \")\n",
        "    for pais in dados_paises:\n",
        "      pais = pais.split(\",\")\n",
        "      if pais[0].lower() == pais_escolhido.lower():\n",
        "        teste = 1 \n",
        "        print(pais[1:])\n",
        "        print(cabecalho[1:])\n",
        "        eixo_x = cabecalho[1:]\n",
        "        eixo_y = np.array(pais[1:])\n",
        "\n",
        "        plt.plot(eixo_x, eixo_y.astype(float))\n",
        "        plt.xlabel('Ano')\n",
        "        plt.ylabel('Valor (em Trilhão)')\n",
        "        plt.title(f\"{pais[0]} - Progresso do PIB\")\n",
        "        plt.show()  \n",
        "    if teste == 0 :\n",
        "        print(\"País não disponível\")\n",
        "    else:\n",
        "      teste = 0\n",
        "    print(\"\")\n",
        "    print(\"\")\n",
        "    print(\"Para ir para outra questão reinicie o programa e escolha outra opção!\")\n",
        "  else :\n",
        "      teste = 0 \n",
        "\n",
        "\n",
        "pib()"
      ],
      "execution_count": null,
      "outputs": [
        {
          "output_type": "stream",
          "text": [
            "Qual questão você deseja ir? 5.a == 1 , 5.b == 2 e 5.c == 3 3\n",
            "Qual o país desejado, para visualizar o gráfico? Alemanha\n",
            "['3.73', '3.86', '3.41', '3.51', '3.64', '3.78', '3.93', '4.1']\n",
            "['2013', '2014', '2015', '2016', '2017', '2018', '2019', '2020']\n"
          ],
          "name": "stdout"
        },
        {
          "output_type": "display_data",
          "data": {
            "image/png": "[encoded data removed]",
            "text/plain": [
              "<Figure size 432x288 with 1 Axes>"
            ]
          },
          "metadata": {
            "tags": [],
            "needs_background": "light"
          }
        },
        {
          "output_type": "stream",
          "text": [
            "\n",
            "\n",
            "Para ir para outra questão reinicie o programa e escolha outra opção!\n"
          ],
          "name": "stdout"
        }
      ]
    }
  ]
}